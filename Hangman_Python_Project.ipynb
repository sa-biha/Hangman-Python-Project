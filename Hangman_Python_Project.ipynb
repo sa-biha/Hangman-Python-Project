{
  "nbformat": 4,
  "nbformat_minor": 0,
  "metadata": {
    "colab": {
      "provenance": [],
      "authorship_tag": "ABX9TyPJGaHDSQJ7LRmJ9Uya155+",
      "include_colab_link": true
    },
    "kernelspec": {
      "name": "python3",
      "display_name": "Python 3"
    },
    "language_info": {
      "name": "python"
    }
  },
  "cells": [
    {
      "cell_type": "markdown",
      "metadata": {
        "id": "view-in-github",
        "colab_type": "text"
      },
      "source": [
        "<a href=\"https://colab.research.google.com/github/sa-biha/Hangman-Python-Project/blob/main/Hangman_Python_Project.ipynb\" target=\"_parent\"><img src=\"https://colab.research.google.com/assets/colab-badge.svg\" alt=\"Open In Colab\"/></a>"
      ]
    },
    {
      "cell_type": "markdown",
      "source": [],
      "metadata": {
        "id": "2NMCPr7EGYU3"
      }
    },
    {
      "cell_type": "markdown",
      "source": [
        "# ***Hangman Python Project***"
      ],
      "metadata": {
        "id": "0U8hzOmUGajI"
      }
    },
    {
      "cell_type": "markdown",
      "source": [
        "# ***Cell 1: Importing Required Libraries***"
      ],
      "metadata": {
        "id": "c4ONivxZGoKQ"
      }
    },
    {
      "cell_type": "code",
      "source": [
        "import random\n"
      ],
      "metadata": {
        "id": "6Bft50gkHLvz"
      },
      "execution_count": null,
      "outputs": []
    },
    {
      "cell_type": "markdown",
      "source": [
        "# ***Cell 2: Displaying the Welcome Message***"
      ],
      "metadata": {
        "id": "Dm0PR8qCHUrB"
      }
    },
    {
      "cell_type": "code",
      "source": [
        "print(\"Welcome to the Hangman Game!\")\n",
        "print(\"Guess the word, one letter at a time.\")\n",
        "print(\"You have limited chances, so use them wisely!\")\n"
      ],
      "metadata": {
        "colab": {
          "base_uri": "https://localhost:8080/"
        },
        "id": "VP8b5kECHbsL",
        "outputId": "0c087cef-436e-47b5-eb0b-ea9e605024b3"
      },
      "execution_count": null,
      "outputs": [
        {
          "output_type": "stream",
          "name": "stdout",
          "text": [
            "Welcome to the Hangman Game!\n",
            "Guess the word, one letter at a time.\n",
            "You have limited chances, so use them wisely!\n"
          ]
        }
      ]
    },
    {
      "cell_type": "markdown",
      "source": [
        "# ***Cell 3: Defining the Hangman Game Logic***"
      ],
      "metadata": {
        "id": "ardkSUxVHf2E"
      }
    },
    {
      "cell_type": "code",
      "source": [
        "def hangman_game():\n",
        "    # List of words to guess\n",
        "    words = ['python', 'hangman', 'programming', 'developer', 'computer']\n",
        "    secret_word = random.choice(words)  # Randomly select a word\n",
        "    guessed_word = ['_'] * len(secret_word)  # Create a blank version of the word\n",
        "    attempts_left = 6  # Number of incorrect guesses allowed\n",
        "    guessed_letters = []  # List to keep track of guessed letters\n",
        "\n",
        "    print(\"\\nLet's start the game!\")\n",
        "    print(\" \".join(guessed_word))  # Show the blank word to the player\n",
        "\n",
        "    while attempts_left > 0:\n",
        "        # User input\n",
        "        guess = input(\"Enter a letter: \").lower()\n",
        "\n",
        "        # Input validation\n",
        "        if len(guess) != 1 or not guess.isalpha():\n",
        "            print(\"Invalid input! Please enter a single alphabet.\")\n",
        "            continue\n",
        "\n",
        "        # Check if the letter was already guessed\n",
        "        if guess in guessed_letters:\n",
        "            print(\"You already guessed that letter!\")\n",
        "            continue\n",
        "\n",
        "        guessed_letters.append(guess)\n",
        "\n",
        "        # Check if the guessed letter is in the secret word\n",
        "        if guess in secret_word:\n",
        "            print(f\"Good job! {guess} is in the word.\")\n",
        "            # Update the guessed_word list\n",
        "            for index, letter in enumerate(secret_word):\n",
        "                if letter == guess:\n",
        "                    guessed_word[index] = guess\n",
        "        else:\n",
        "            print(f\"Oops! {guess} is not in the word.\")\n",
        "            attempts_left -= 1  # Decrement attempts\n",
        "\n",
        "        # Display the current progress\n",
        "        print(\"Word:\", \" \".join(guessed_word))\n",
        "        print(f\"Attempts left: {attempts_left}\")\n",
        "\n",
        "        # Check if the player has guessed the word\n",
        "        if \"_\" not in guessed_word:\n",
        "            print(\"Congratulations! You guessed the word!\")\n",
        "            break\n",
        "\n",
        "    # If the player runs out of attempts\n",
        "    if \"_\" in guessed_word:\n",
        "        print(f\"Game over! The word was: {secret_word}\")"
      ],
      "metadata": {
        "id": "b6OaTs8cHkqc"
      },
      "execution_count": null,
      "outputs": []
    },
    {
      "cell_type": "markdown",
      "source": [
        "# ***Cell 4: Running the Game***"
      ],
      "metadata": {
        "id": "esHtc5HaHwhP"
      }
    },
    {
      "cell_type": "code",
      "source": [
        "# Start the game\n",
        "hangman_game()m\n"
      ],
      "metadata": {
        "colab": {
          "base_uri": "https://localhost:8080/"
        },
        "id": "2o-NtOA7H8Ax",
        "outputId": "2b7e0462-f9d4-4ef1-e77d-45ea2e2911d9"
      },
      "execution_count": null,
      "outputs": [
        {
          "output_type": "stream",
          "name": "stdout",
          "text": [
            "\n",
            "Let's start the game!\n",
            "_ _ _ _ _ _ _\n",
            "Enter a letter: h\n",
            "Good job! h is in the word.\n",
            "Word: h _ _ _ _ _ _\n",
            "Attempts left: 6\n",
            "Enter a letter: a\n",
            "Good job! a is in the word.\n",
            "Word: h a _ _ _ a _\n",
            "Attempts left: 6\n",
            "Enter a letter: n\n",
            "Good job! n is in the word.\n",
            "Word: h a n _ _ a n\n",
            "Attempts left: 6\n",
            "Enter a letter: g\n",
            "Good job! g is in the word.\n",
            "Word: h a n g _ a n\n",
            "Attempts left: 6\n",
            "Enter a letter: m\n",
            "Good job! m is in the word.\n",
            "Word: h a n g m a n\n",
            "Attempts left: 6\n",
            "Congratulations! You guessed the word!\n"
          ]
        }
      ]
    },
    {
      "cell_type": "code",
      "source": [],
      "metadata": {
        "id": "3Qol5FH6I5sY"
      },
      "execution_count": null,
      "outputs": []
    }
  ]
}